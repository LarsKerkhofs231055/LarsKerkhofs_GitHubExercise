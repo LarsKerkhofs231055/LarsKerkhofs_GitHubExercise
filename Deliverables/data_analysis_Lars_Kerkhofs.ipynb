{
 "cells": [
  {
   "cell_type": "code",
   "execution_count": 121,
   "metadata": {},
   "outputs": [
    {
     "name": "stdout",
     "output_type": "stream",
     "text": [
      "155.15021459227466\n",
      "207.45967350648957\n",
      "1223\n",
      "1\n"
     ]
    }
   ],
   "source": [
    "fhand = open('API_SH.STA.MMRT_DS2_en_csv_v2_5996428.csv')\n",
    "numbers = []\n",
    "count = 0\n",
    "for line in fhand:\n",
    "    if count > 4:\n",
    "        number = line.strip().split('\"')[-6]\n",
    "        if number == '':\n",
    "            continue\n",
    "        else:\n",
    "            numbers.append(int(number))\n",
    "    count = count + 1\n",
    "print(sum(numbers) / len(numbers)) #Mean\n",
    "mean = sum(numbers) / len(numbers)\n",
    "var = sum([((x - mean) ** 2) for x in numbers]) / (len(numbers) - 1)\n",
    "print(var ** 0.5) #Standard deviation\n",
    "print(max(numbers)) #Maximum\n",
    "print(min(numbers)) #Minimum\n",
    "fhand.close()"
   ]
  }
 ],
 "metadata": {
  "kernelspec": {
   "display_name": "block_a",
   "language": "python",
   "name": "python3"
  },
  "language_info": {
   "codemirror_mode": {
    "name": "ipython",
    "version": 3
   },
   "file_extension": ".py",
   "mimetype": "text/x-python",
   "name": "python",
   "nbconvert_exporter": "python",
   "pygments_lexer": "ipython3",
   "version": "3.8.17"
  }
 },
 "nbformat": 4,
 "nbformat_minor": 2
}
